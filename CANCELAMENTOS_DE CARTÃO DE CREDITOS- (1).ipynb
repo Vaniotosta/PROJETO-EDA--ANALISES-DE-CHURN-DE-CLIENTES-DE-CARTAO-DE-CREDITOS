{
 "cells": [
  {
   "cell_type": "markdown",
   "id": "6158d56d",
   "metadata": {},
   "source": [
    "# PROJETO EDA- ANÁLISES DE EVASÃO DE CARTÃO DE CRÉDITOS\n",
    "### DATA 02/10/23"
   ]
  },
  {
   "cell_type": "markdown",
   "id": "e526db8a",
   "metadata": {},
   "source": [
    "## INTRODUÇÃO"
   ]
  },
  {
   "cell_type": "markdown",
   "id": "6e88afa3",
   "metadata": {},
   "source": [
    "Para que uma empresa tenha sucesso no mercado competitivo,  a evasão do consumidor,é caracterizado com um problema sério. Toada e qualquer organização para se manter lucrativa, precisa identificar possíveis clientes que podem ou poderá sair de sua carteira,provocando perca de receitas e de faturamentos, Pensando nisso, o conceito de churn de clientes, é  fundamental para o planejamento estratégico e o bom desempenho da gestão nas corporações.Sendo assim,O churn, também chamado churn rate, é um índice que mede a taxa de cancelamento, isto é, indica a porcentagem da evasão dos consumidores em uma determinada empresa. Sendo assim, o churn rate está associado a casos em que um cliente deixa de utilizar um produto ou serviço, quantificando o número total de usuários cancelados na jornada de consumo."
   ]
  },
  {
   "cell_type": "markdown",
   "id": "34503c42",
   "metadata": {},
   "source": [
    "## OBJETIVO"
   ]
  },
  {
   "cell_type": "markdown",
   "id": "2dc3cf31",
   "metadata": {},
   "source": [
    "Você foi contratado por uma empresa com mais de 800 mil clientes para um projeto de Dados. Recentemente a empresa percebeu que da sua base total de clientes, a maioria são clientes inativos, ou seja, que já cancelaram o serviço.\n",
    "\n",
    "Precisando melhorar seus resultados ela quer conseguir entender os principais motivos desses cancelamentos e quais as ações mais eficientes para reduzir esse número."
   ]
  },
  {
   "cell_type": "code",
   "execution_count": 74,
   "id": "7bdce93e",
   "metadata": {},
   "outputs": [
    {
     "data": {
      "text/plain": [
       "Renderers configuration\n",
       "-----------------------\n",
       "    Default renderer: 'jpeg'\n",
       "    Available renderers:\n",
       "        ['plotly_mimetype', 'jupyterlab', 'nteract', 'vscode',\n",
       "         'notebook', 'notebook_connected', 'kaggle', 'azure', 'colab',\n",
       "         'cocalc', 'databricks', 'json', 'png', 'jpeg', 'jpg', 'svg',\n",
       "         'pdf', 'browser', 'firefox', 'chrome', 'chromium', 'iframe',\n",
       "         'iframe_connected', 'sphinx_gallery', 'sphinx_gallery_png']"
      ]
     },
     "execution_count": 74,
     "metadata": {},
     "output_type": "execute_result"
    }
   ],
   "source": [
    "#immportando bibliotecas\n",
    "import pandas as pd\n",
    "import numpy as np\n",
    "import plotly.express as px\n",
    "\n",
    "#renderizando\n",
    "import plotly.io as pio\n",
    "pio.renderers"
   ]
  },
  {
   "cell_type": "code",
   "execution_count": 75,
   "id": "44543ed3",
   "metadata": {},
   "outputs": [],
   "source": [
    "pio.renderers.default = \"png\" # visualizar e salvar em foto para git\n",
    "#pio.renderers.default = \"notebook\" # visualizar em outra IDE\n",
    "#pio.renderers.default ='jpeg'# visualizar em outra IDE"
   ]
  },
  {
   "cell_type": "code",
   "execution_count": 76,
   "id": "7ebdc6ac",
   "metadata": {},
   "outputs": [
    {
     "data": {
      "text/html": [
       "<div>\n",
       "<style scoped>\n",
       "    .dataframe tbody tr th:only-of-type {\n",
       "        vertical-align: middle;\n",
       "    }\n",
       "\n",
       "    .dataframe tbody tr th {\n",
       "        vertical-align: top;\n",
       "    }\n",
       "\n",
       "    .dataframe thead th {\n",
       "        text-align: right;\n",
       "    }\n",
       "</style>\n",
       "<table border=\"1\" class=\"dataframe\">\n",
       "  <thead>\n",
       "    <tr style=\"text-align: right;\">\n",
       "      <th></th>\n",
       "      <th>idade</th>\n",
       "      <th>sexo</th>\n",
       "      <th>tempo_como_cliente</th>\n",
       "      <th>frequencia_uso</th>\n",
       "      <th>ligacoes_callcenter</th>\n",
       "      <th>dias_atraso</th>\n",
       "      <th>assinatura</th>\n",
       "      <th>duracao_contrato</th>\n",
       "      <th>total_gasto</th>\n",
       "      <th>meses_ultima_interacao</th>\n",
       "      <th>cancelou</th>\n",
       "    </tr>\n",
       "  </thead>\n",
       "  <tbody>\n",
       "    <tr>\n",
       "      <th>0</th>\n",
       "      <td>30.0</td>\n",
       "      <td>Female</td>\n",
       "      <td>39.0</td>\n",
       "      <td>14.0</td>\n",
       "      <td>5.0</td>\n",
       "      <td>18.0</td>\n",
       "      <td>Standard</td>\n",
       "      <td>Annual</td>\n",
       "      <td>932.00</td>\n",
       "      <td>17.0</td>\n",
       "      <td>1.0</td>\n",
       "    </tr>\n",
       "    <tr>\n",
       "      <th>1</th>\n",
       "      <td>65.0</td>\n",
       "      <td>Female</td>\n",
       "      <td>49.0</td>\n",
       "      <td>1.0</td>\n",
       "      <td>10.0</td>\n",
       "      <td>8.0</td>\n",
       "      <td>Basic</td>\n",
       "      <td>Monthly</td>\n",
       "      <td>557.00</td>\n",
       "      <td>6.0</td>\n",
       "      <td>1.0</td>\n",
       "    </tr>\n",
       "    <tr>\n",
       "      <th>2</th>\n",
       "      <td>55.0</td>\n",
       "      <td>Female</td>\n",
       "      <td>14.0</td>\n",
       "      <td>4.0</td>\n",
       "      <td>6.0</td>\n",
       "      <td>18.0</td>\n",
       "      <td>Basic</td>\n",
       "      <td>Quarterly</td>\n",
       "      <td>185.00</td>\n",
       "      <td>3.0</td>\n",
       "      <td>1.0</td>\n",
       "    </tr>\n",
       "    <tr>\n",
       "      <th>3</th>\n",
       "      <td>58.0</td>\n",
       "      <td>Male</td>\n",
       "      <td>38.0</td>\n",
       "      <td>21.0</td>\n",
       "      <td>7.0</td>\n",
       "      <td>7.0</td>\n",
       "      <td>Standard</td>\n",
       "      <td>Monthly</td>\n",
       "      <td>396.00</td>\n",
       "      <td>29.0</td>\n",
       "      <td>1.0</td>\n",
       "    </tr>\n",
       "    <tr>\n",
       "      <th>4</th>\n",
       "      <td>23.0</td>\n",
       "      <td>Male</td>\n",
       "      <td>32.0</td>\n",
       "      <td>20.0</td>\n",
       "      <td>5.0</td>\n",
       "      <td>8.0</td>\n",
       "      <td>Basic</td>\n",
       "      <td>Monthly</td>\n",
       "      <td>617.00</td>\n",
       "      <td>20.0</td>\n",
       "      <td>1.0</td>\n",
       "    </tr>\n",
       "    <tr>\n",
       "      <th>...</th>\n",
       "      <td>...</td>\n",
       "      <td>...</td>\n",
       "      <td>...</td>\n",
       "      <td>...</td>\n",
       "      <td>...</td>\n",
       "      <td>...</td>\n",
       "      <td>...</td>\n",
       "      <td>...</td>\n",
       "      <td>...</td>\n",
       "      <td>...</td>\n",
       "      <td>...</td>\n",
       "    </tr>\n",
       "    <tr>\n",
       "      <th>881661</th>\n",
       "      <td>42.0</td>\n",
       "      <td>Male</td>\n",
       "      <td>54.0</td>\n",
       "      <td>15.0</td>\n",
       "      <td>1.0</td>\n",
       "      <td>3.0</td>\n",
       "      <td>Premium</td>\n",
       "      <td>Annual</td>\n",
       "      <td>716.38</td>\n",
       "      <td>8.0</td>\n",
       "      <td>0.0</td>\n",
       "    </tr>\n",
       "    <tr>\n",
       "      <th>881662</th>\n",
       "      <td>25.0</td>\n",
       "      <td>Female</td>\n",
       "      <td>8.0</td>\n",
       "      <td>13.0</td>\n",
       "      <td>1.0</td>\n",
       "      <td>20.0</td>\n",
       "      <td>Premium</td>\n",
       "      <td>Annual</td>\n",
       "      <td>745.38</td>\n",
       "      <td>2.0</td>\n",
       "      <td>0.0</td>\n",
       "    </tr>\n",
       "    <tr>\n",
       "      <th>881663</th>\n",
       "      <td>26.0</td>\n",
       "      <td>Male</td>\n",
       "      <td>35.0</td>\n",
       "      <td>27.0</td>\n",
       "      <td>1.0</td>\n",
       "      <td>5.0</td>\n",
       "      <td>Standard</td>\n",
       "      <td>Quarterly</td>\n",
       "      <td>977.31</td>\n",
       "      <td>9.0</td>\n",
       "      <td>0.0</td>\n",
       "    </tr>\n",
       "    <tr>\n",
       "      <th>881664</th>\n",
       "      <td>28.0</td>\n",
       "      <td>Male</td>\n",
       "      <td>55.0</td>\n",
       "      <td>14.0</td>\n",
       "      <td>2.0</td>\n",
       "      <td>0.0</td>\n",
       "      <td>Standard</td>\n",
       "      <td>Quarterly</td>\n",
       "      <td>602.55</td>\n",
       "      <td>2.0</td>\n",
       "      <td>0.0</td>\n",
       "    </tr>\n",
       "    <tr>\n",
       "      <th>881665</th>\n",
       "      <td>31.0</td>\n",
       "      <td>Male</td>\n",
       "      <td>48.0</td>\n",
       "      <td>20.0</td>\n",
       "      <td>1.0</td>\n",
       "      <td>14.0</td>\n",
       "      <td>Premium</td>\n",
       "      <td>Quarterly</td>\n",
       "      <td>567.77</td>\n",
       "      <td>21.0</td>\n",
       "      <td>0.0</td>\n",
       "    </tr>\n",
       "  </tbody>\n",
       "</table>\n",
       "<p>881666 rows × 11 columns</p>\n",
       "</div>"
      ],
      "text/plain": [
       "        idade    sexo  tempo_como_cliente  frequencia_uso  \\\n",
       "0        30.0  Female                39.0            14.0   \n",
       "1        65.0  Female                49.0             1.0   \n",
       "2        55.0  Female                14.0             4.0   \n",
       "3        58.0    Male                38.0            21.0   \n",
       "4        23.0    Male                32.0            20.0   \n",
       "...       ...     ...                 ...             ...   \n",
       "881661   42.0    Male                54.0            15.0   \n",
       "881662   25.0  Female                 8.0            13.0   \n",
       "881663   26.0    Male                35.0            27.0   \n",
       "881664   28.0    Male                55.0            14.0   \n",
       "881665   31.0    Male                48.0            20.0   \n",
       "\n",
       "        ligacoes_callcenter  dias_atraso assinatura duracao_contrato  \\\n",
       "0                       5.0         18.0   Standard           Annual   \n",
       "1                      10.0          8.0      Basic          Monthly   \n",
       "2                       6.0         18.0      Basic        Quarterly   \n",
       "3                       7.0          7.0   Standard          Monthly   \n",
       "4                       5.0          8.0      Basic          Monthly   \n",
       "...                     ...          ...        ...              ...   \n",
       "881661                  1.0          3.0    Premium           Annual   \n",
       "881662                  1.0         20.0    Premium           Annual   \n",
       "881663                  1.0          5.0   Standard        Quarterly   \n",
       "881664                  2.0          0.0   Standard        Quarterly   \n",
       "881665                  1.0         14.0    Premium        Quarterly   \n",
       "\n",
       "        total_gasto  meses_ultima_interacao  cancelou  \n",
       "0            932.00                    17.0       1.0  \n",
       "1            557.00                     6.0       1.0  \n",
       "2            185.00                     3.0       1.0  \n",
       "3            396.00                    29.0       1.0  \n",
       "4            617.00                    20.0       1.0  \n",
       "...             ...                     ...       ...  \n",
       "881661       716.38                     8.0       0.0  \n",
       "881662       745.38                     2.0       0.0  \n",
       "881663       977.31                     9.0       0.0  \n",
       "881664       602.55                     2.0       0.0  \n",
       "881665       567.77                    21.0       0.0  \n",
       "\n",
       "[881666 rows x 11 columns]"
      ]
     },
     "metadata": {},
     "output_type": "display_data"
    }
   ],
   "source": [
    "# Visualizando base de dados\n",
    "\n",
    "tabela = pd.read_csv(\"cancelamentos.csv\")\n",
    "tabela = tabela.drop(\"CustomerID\", axis=1)\n",
    "display(tabela)"
   ]
  },
  {
   "cell_type": "markdown",
   "id": "8d3b803c",
   "metadata": {},
   "source": [
    "Aqui se percebe que a base de dados já veio com pré tratamento nas variáveis , e que nos facitou o trabalho"
   ]
  },
  {
   "cell_type": "code",
   "execution_count": 77,
   "id": "e75b51f9",
   "metadata": {},
   "outputs": [
    {
     "name": "stdout",
     "output_type": "stream",
     "text": [
      "<class 'pandas.core.frame.DataFrame'>\n",
      "RangeIndex: 881666 entries, 0 to 881665\n",
      "Data columns (total 11 columns):\n",
      " #   Column                  Non-Null Count   Dtype  \n",
      "---  ------                  --------------   -----  \n",
      " 0   idade                   881664 non-null  float64\n",
      " 1   sexo                    881664 non-null  object \n",
      " 2   tempo_como_cliente      881663 non-null  float64\n",
      " 3   frequencia_uso          881663 non-null  float64\n",
      " 4   ligacoes_callcenter     881664 non-null  float64\n",
      " 5   dias_atraso             881664 non-null  float64\n",
      " 6   assinatura              881661 non-null  object \n",
      " 7   duracao_contrato        881663 non-null  object \n",
      " 8   total_gasto             881664 non-null  float64\n",
      " 9   meses_ultima_interacao  881664 non-null  float64\n",
      " 10  cancelou                881664 non-null  float64\n",
      "dtypes: float64(8), object(3)\n",
      "memory usage: 74.0+ MB\n"
     ]
    }
   ],
   "source": [
    "# buscando informação dos dados\n",
    "tabela.info()"
   ]
  },
  {
   "cell_type": "code",
   "execution_count": 78,
   "id": "069fea8a",
   "metadata": {},
   "outputs": [
    {
     "data": {
      "text/plain": [
       "idade                     0.000002\n",
       "sexo                      0.000002\n",
       "tempo_como_cliente        0.000003\n",
       "frequencia_uso            0.000003\n",
       "ligacoes_callcenter       0.000002\n",
       "dias_atraso               0.000002\n",
       "assinatura                0.000006\n",
       "duracao_contrato          0.000003\n",
       "total_gasto               0.000002\n",
       "meses_ultima_interacao    0.000002\n",
       "cancelou                  0.000002\n",
       "dtype: float64"
      ]
     },
     "execution_count": 78,
     "metadata": {},
     "output_type": "execute_result"
    }
   ],
   "source": [
    "#verificação de dados nulos\n",
    "tabela.isnull().mean()  "
   ]
  },
  {
   "cell_type": "markdown",
   "id": "fa656a89",
   "metadata": {},
   "source": [
    "Existem em todas as colunas valores nulos,principalmente na variável que no indica a TARGET, por ser valores muitos pequenos de missing, adotou-se a estratégia de excluir todas as colunas, porém. nem sempre essa será uma boa estratégia, o ideal é buscar os motivos dos missings, ou adotar uma estratégia estatística."
   ]
  },
  {
   "cell_type": "code",
   "execution_count": 79,
   "id": "571f73cd",
   "metadata": {},
   "outputs": [
    {
     "data": {
      "text/plain": [
       "idade                     0.0\n",
       "sexo                      0.0\n",
       "tempo_como_cliente        0.0\n",
       "frequencia_uso            0.0\n",
       "ligacoes_callcenter       0.0\n",
       "dias_atraso               0.0\n",
       "assinatura                0.0\n",
       "duracao_contrato          0.0\n",
       "total_gasto               0.0\n",
       "meses_ultima_interacao    0.0\n",
       "cancelou                  0.0\n",
       "dtype: float64"
      ]
     },
     "execution_count": 79,
     "metadata": {},
     "output_type": "execute_result"
    }
   ],
   "source": [
    "# excluindo todas os missing e verificando novamentes\n",
    "tabela=tabela.dropna()    # excluindo valores nulos\n",
    "tabela.isnull().mean()"
   ]
  },
  {
   "cell_type": "markdown",
   "id": "3d2fe281",
   "metadata": {},
   "source": [
    "## Quantas pessoas cancelaram o serviço?"
   ]
  },
  {
   "cell_type": "code",
   "execution_count": 80,
   "id": "76962bda",
   "metadata": {},
   "outputs": [
    {
     "data": {
      "text/plain": [
       "1.0    499993\n",
       "0.0    381666\n",
       "Name: cancelou, dtype: int64"
      ]
     },
     "metadata": {},
     "output_type": "display_data"
    },
    {
     "data": {
      "text/plain": [
       "1.0    56.7%\n",
       "0.0    43.3%\n",
       "Name: cancelou, dtype: object"
      ]
     },
     "metadata": {},
     "output_type": "display_data"
    }
   ],
   "source": [
    "# aqui observou que ('1.0' cancelou o serviço) e ('0' não cancelou o serviço)\n",
    "display(tabela[\"cancelou\"].value_counts())\n",
    "display(tabela[\"cancelou\"].value_counts(normalize=True).map(\"{:.1%}\".format))"
   ]
  },
  {
   "cell_type": "markdown",
   "id": "e7b7b7c8",
   "metadata": {},
   "source": [
    "Mais da metade dos clientes 56,7%, cancelram o serviço, temos um problema séria a resolver"
   ]
  },
  {
   "cell_type": "markdown",
   "id": "62945cb4",
   "metadata": {},
   "source": [
    "## Vamos observar como está a duração dos contratos?"
   ]
  },
  {
   "cell_type": "code",
   "execution_count": 81,
   "id": "b1d467ab",
   "metadata": {},
   "outputs": [
    {
     "data": {
      "text/plain": [
       "Annual       0.401964\n",
       "Quarterly    0.400448\n",
       "Monthly      0.197588\n",
       "Name: duracao_contrato, dtype: float64"
      ]
     },
     "metadata": {},
     "output_type": "display_data"
    },
    {
     "data": {
      "text/plain": [
       "Annual       354395\n",
       "Quarterly    353059\n",
       "Monthly      174205\n",
       "Name: duracao_contrato, dtype: int64"
      ]
     },
     "metadata": {},
     "output_type": "display_data"
    }
   ],
   "source": [
    "display(tabela[\"duracao_contrato\"].value_counts(normalize=True))\n",
    "display(tabela[\"duracao_contrato\"].value_counts())"
   ]
  },
  {
   "cell_type": "markdown",
   "id": "28bb3842",
   "metadata": {},
   "source": [
    "Os contratos MENSAIS são os que menos duram, os mais ruins."
   ]
  },
  {
   "cell_type": "code",
   "execution_count": 82,
   "id": "9c754973",
   "metadata": {},
   "outputs": [
    {
     "data": {
      "text/html": [
       "<div>\n",
       "<style scoped>\n",
       "    .dataframe tbody tr th:only-of-type {\n",
       "        vertical-align: middle;\n",
       "    }\n",
       "\n",
       "    .dataframe tbody tr th {\n",
       "        vertical-align: top;\n",
       "    }\n",
       "\n",
       "    .dataframe thead th {\n",
       "        text-align: right;\n",
       "    }\n",
       "</style>\n",
       "<table border=\"1\" class=\"dataframe\">\n",
       "  <thead>\n",
       "    <tr style=\"text-align: right;\">\n",
       "      <th></th>\n",
       "      <th>idade</th>\n",
       "      <th>tempo_como_cliente</th>\n",
       "      <th>frequencia_uso</th>\n",
       "      <th>ligacoes_callcenter</th>\n",
       "      <th>dias_atraso</th>\n",
       "      <th>total_gasto</th>\n",
       "      <th>meses_ultima_interacao</th>\n",
       "      <th>cancelou</th>\n",
       "    </tr>\n",
       "    <tr>\n",
       "      <th>duracao_contrato</th>\n",
       "      <th></th>\n",
       "      <th></th>\n",
       "      <th></th>\n",
       "      <th></th>\n",
       "      <th></th>\n",
       "      <th></th>\n",
       "      <th></th>\n",
       "      <th></th>\n",
       "    </tr>\n",
       "  </thead>\n",
       "  <tbody>\n",
       "    <tr>\n",
       "      <th>Annual</th>\n",
       "      <td>38.842165</td>\n",
       "      <td>31.446186</td>\n",
       "      <td>15.880213</td>\n",
       "      <td>3.263401</td>\n",
       "      <td>12.465156</td>\n",
       "      <td>651.697738</td>\n",
       "      <td>14.236107</td>\n",
       "      <td>0.460760</td>\n",
       "    </tr>\n",
       "    <tr>\n",
       "      <th>Monthly</th>\n",
       "      <td>41.552407</td>\n",
       "      <td>30.538555</td>\n",
       "      <td>15.499274</td>\n",
       "      <td>4.985649</td>\n",
       "      <td>15.007267</td>\n",
       "      <td>550.616435</td>\n",
       "      <td>15.478012</td>\n",
       "      <td>1.000000</td>\n",
       "    </tr>\n",
       "    <tr>\n",
       "      <th>Quarterly</th>\n",
       "      <td>38.830938</td>\n",
       "      <td>31.419916</td>\n",
       "      <td>15.886662</td>\n",
       "      <td>3.265245</td>\n",
       "      <td>12.460863</td>\n",
       "      <td>651.427783</td>\n",
       "      <td>14.234544</td>\n",
       "      <td>0.460255</td>\n",
       "    </tr>\n",
       "  </tbody>\n",
       "</table>\n",
       "</div>"
      ],
      "text/plain": [
       "                      idade  tempo_como_cliente  frequencia_uso  \\\n",
       "duracao_contrato                                                  \n",
       "Annual            38.842165           31.446186       15.880213   \n",
       "Monthly           41.552407           30.538555       15.499274   \n",
       "Quarterly         38.830938           31.419916       15.886662   \n",
       "\n",
       "                  ligacoes_callcenter  dias_atraso  total_gasto  \\\n",
       "duracao_contrato                                                  \n",
       "Annual                       3.263401    12.465156   651.697738   \n",
       "Monthly                      4.985649    15.007267   550.616435   \n",
       "Quarterly                    3.265245    12.460863   651.427783   \n",
       "\n",
       "                  meses_ultima_interacao  cancelou  \n",
       "duracao_contrato                                    \n",
       "Annual                         14.236107  0.460760  \n",
       "Monthly                        15.478012  1.000000  \n",
       "Quarterly                      14.234544  0.460255  "
      ]
     },
     "metadata": {},
     "output_type": "display_data"
    }
   ],
   "source": [
    "# analisando o contrato mensal\n",
    "display(tabela.groupby(\"duracao_contrato\").mean(numeric_only=True))\n",
    "# descobrimos aqui que a média de cancelamentos é 1, ou seja, praticamente todos os contratos mensais cancelaram (ou todos)"
   ]
  },
  {
   "cell_type": "markdown",
   "id": "77d02a0f",
   "metadata": {},
   "source": [
    "Aqui descobrimos que todos cancelamento mensais é 1, ou seja, todos cancelam o serviços"
   ]
  },
  {
   "cell_type": "markdown",
   "id": "66be226f",
   "metadata": {},
   "source": [
    "## Já que descobrimos que todos contratos mensais cancelam, vamos analisar apenas os não mensais"
   ]
  },
  {
   "cell_type": "code",
   "execution_count": 83,
   "id": "246f127c",
   "metadata": {},
   "outputs": [
    {
     "data": {
      "text/html": [
       "<div>\n",
       "<style scoped>\n",
       "    .dataframe tbody tr th:only-of-type {\n",
       "        vertical-align: middle;\n",
       "    }\n",
       "\n",
       "    .dataframe tbody tr th {\n",
       "        vertical-align: top;\n",
       "    }\n",
       "\n",
       "    .dataframe thead th {\n",
       "        text-align: right;\n",
       "    }\n",
       "</style>\n",
       "<table border=\"1\" class=\"dataframe\">\n",
       "  <thead>\n",
       "    <tr style=\"text-align: right;\">\n",
       "      <th></th>\n",
       "      <th>idade</th>\n",
       "      <th>sexo</th>\n",
       "      <th>tempo_como_cliente</th>\n",
       "      <th>frequencia_uso</th>\n",
       "      <th>ligacoes_callcenter</th>\n",
       "      <th>dias_atraso</th>\n",
       "      <th>assinatura</th>\n",
       "      <th>duracao_contrato</th>\n",
       "      <th>total_gasto</th>\n",
       "      <th>meses_ultima_interacao</th>\n",
       "      <th>cancelou</th>\n",
       "    </tr>\n",
       "  </thead>\n",
       "  <tbody>\n",
       "    <tr>\n",
       "      <th>0</th>\n",
       "      <td>30.0</td>\n",
       "      <td>Female</td>\n",
       "      <td>39.0</td>\n",
       "      <td>14.0</td>\n",
       "      <td>5.0</td>\n",
       "      <td>18.0</td>\n",
       "      <td>Standard</td>\n",
       "      <td>Annual</td>\n",
       "      <td>932.00</td>\n",
       "      <td>17.0</td>\n",
       "      <td>1.0</td>\n",
       "    </tr>\n",
       "    <tr>\n",
       "      <th>2</th>\n",
       "      <td>55.0</td>\n",
       "      <td>Female</td>\n",
       "      <td>14.0</td>\n",
       "      <td>4.0</td>\n",
       "      <td>6.0</td>\n",
       "      <td>18.0</td>\n",
       "      <td>Basic</td>\n",
       "      <td>Quarterly</td>\n",
       "      <td>185.00</td>\n",
       "      <td>3.0</td>\n",
       "      <td>1.0</td>\n",
       "    </tr>\n",
       "    <tr>\n",
       "      <th>5</th>\n",
       "      <td>51.0</td>\n",
       "      <td>Male</td>\n",
       "      <td>33.0</td>\n",
       "      <td>25.0</td>\n",
       "      <td>9.0</td>\n",
       "      <td>26.0</td>\n",
       "      <td>Premium</td>\n",
       "      <td>Annual</td>\n",
       "      <td>129.00</td>\n",
       "      <td>8.0</td>\n",
       "      <td>1.0</td>\n",
       "    </tr>\n",
       "    <tr>\n",
       "      <th>6</th>\n",
       "      <td>58.0</td>\n",
       "      <td>Female</td>\n",
       "      <td>49.0</td>\n",
       "      <td>12.0</td>\n",
       "      <td>3.0</td>\n",
       "      <td>16.0</td>\n",
       "      <td>Standard</td>\n",
       "      <td>Quarterly</td>\n",
       "      <td>821.00</td>\n",
       "      <td>24.0</td>\n",
       "      <td>1.0</td>\n",
       "    </tr>\n",
       "    <tr>\n",
       "      <th>7</th>\n",
       "      <td>55.0</td>\n",
       "      <td>Female</td>\n",
       "      <td>37.0</td>\n",
       "      <td>8.0</td>\n",
       "      <td>4.0</td>\n",
       "      <td>15.0</td>\n",
       "      <td>Premium</td>\n",
       "      <td>Annual</td>\n",
       "      <td>445.00</td>\n",
       "      <td>30.0</td>\n",
       "      <td>1.0</td>\n",
       "    </tr>\n",
       "    <tr>\n",
       "      <th>...</th>\n",
       "      <td>...</td>\n",
       "      <td>...</td>\n",
       "      <td>...</td>\n",
       "      <td>...</td>\n",
       "      <td>...</td>\n",
       "      <td>...</td>\n",
       "      <td>...</td>\n",
       "      <td>...</td>\n",
       "      <td>...</td>\n",
       "      <td>...</td>\n",
       "      <td>...</td>\n",
       "    </tr>\n",
       "    <tr>\n",
       "      <th>881661</th>\n",
       "      <td>42.0</td>\n",
       "      <td>Male</td>\n",
       "      <td>54.0</td>\n",
       "      <td>15.0</td>\n",
       "      <td>1.0</td>\n",
       "      <td>3.0</td>\n",
       "      <td>Premium</td>\n",
       "      <td>Annual</td>\n",
       "      <td>716.38</td>\n",
       "      <td>8.0</td>\n",
       "      <td>0.0</td>\n",
       "    </tr>\n",
       "    <tr>\n",
       "      <th>881662</th>\n",
       "      <td>25.0</td>\n",
       "      <td>Female</td>\n",
       "      <td>8.0</td>\n",
       "      <td>13.0</td>\n",
       "      <td>1.0</td>\n",
       "      <td>20.0</td>\n",
       "      <td>Premium</td>\n",
       "      <td>Annual</td>\n",
       "      <td>745.38</td>\n",
       "      <td>2.0</td>\n",
       "      <td>0.0</td>\n",
       "    </tr>\n",
       "    <tr>\n",
       "      <th>881663</th>\n",
       "      <td>26.0</td>\n",
       "      <td>Male</td>\n",
       "      <td>35.0</td>\n",
       "      <td>27.0</td>\n",
       "      <td>1.0</td>\n",
       "      <td>5.0</td>\n",
       "      <td>Standard</td>\n",
       "      <td>Quarterly</td>\n",
       "      <td>977.31</td>\n",
       "      <td>9.0</td>\n",
       "      <td>0.0</td>\n",
       "    </tr>\n",
       "    <tr>\n",
       "      <th>881664</th>\n",
       "      <td>28.0</td>\n",
       "      <td>Male</td>\n",
       "      <td>55.0</td>\n",
       "      <td>14.0</td>\n",
       "      <td>2.0</td>\n",
       "      <td>0.0</td>\n",
       "      <td>Standard</td>\n",
       "      <td>Quarterly</td>\n",
       "      <td>602.55</td>\n",
       "      <td>2.0</td>\n",
       "      <td>0.0</td>\n",
       "    </tr>\n",
       "    <tr>\n",
       "      <th>881665</th>\n",
       "      <td>31.0</td>\n",
       "      <td>Male</td>\n",
       "      <td>48.0</td>\n",
       "      <td>20.0</td>\n",
       "      <td>1.0</td>\n",
       "      <td>14.0</td>\n",
       "      <td>Premium</td>\n",
       "      <td>Quarterly</td>\n",
       "      <td>567.77</td>\n",
       "      <td>21.0</td>\n",
       "      <td>0.0</td>\n",
       "    </tr>\n",
       "  </tbody>\n",
       "</table>\n",
       "<p>707454 rows × 11 columns</p>\n",
       "</div>"
      ],
      "text/plain": [
       "        idade    sexo  tempo_como_cliente  frequencia_uso  \\\n",
       "0        30.0  Female                39.0            14.0   \n",
       "2        55.0  Female                14.0             4.0   \n",
       "5        51.0    Male                33.0            25.0   \n",
       "6        58.0  Female                49.0            12.0   \n",
       "7        55.0  Female                37.0             8.0   \n",
       "...       ...     ...                 ...             ...   \n",
       "881661   42.0    Male                54.0            15.0   \n",
       "881662   25.0  Female                 8.0            13.0   \n",
       "881663   26.0    Male                35.0            27.0   \n",
       "881664   28.0    Male                55.0            14.0   \n",
       "881665   31.0    Male                48.0            20.0   \n",
       "\n",
       "        ligacoes_callcenter  dias_atraso assinatura duracao_contrato  \\\n",
       "0                       5.0         18.0   Standard           Annual   \n",
       "2                       6.0         18.0      Basic        Quarterly   \n",
       "5                       9.0         26.0    Premium           Annual   \n",
       "6                       3.0         16.0   Standard        Quarterly   \n",
       "7                       4.0         15.0    Premium           Annual   \n",
       "...                     ...          ...        ...              ...   \n",
       "881661                  1.0          3.0    Premium           Annual   \n",
       "881662                  1.0         20.0    Premium           Annual   \n",
       "881663                  1.0          5.0   Standard        Quarterly   \n",
       "881664                  2.0          0.0   Standard        Quarterly   \n",
       "881665                  1.0         14.0    Premium        Quarterly   \n",
       "\n",
       "        total_gasto  meses_ultima_interacao  cancelou  \n",
       "0            932.00                    17.0       1.0  \n",
       "2            185.00                     3.0       1.0  \n",
       "5            129.00                     8.0       1.0  \n",
       "6            821.00                    24.0       1.0  \n",
       "7            445.00                    30.0       1.0  \n",
       "...             ...                     ...       ...  \n",
       "881661       716.38                     8.0       0.0  \n",
       "881662       745.38                     2.0       0.0  \n",
       "881663       977.31                     9.0       0.0  \n",
       "881664       602.55                     2.0       0.0  \n",
       "881665       567.77                    21.0       0.0  \n",
       "\n",
       "[707454 rows x 11 columns]"
      ]
     },
     "metadata": {},
     "output_type": "display_data"
    },
    {
     "data": {
      "text/plain": [
       "0.0    381666\n",
       "1.0    325788\n",
       "Name: cancelou, dtype: int64"
      ]
     },
     "metadata": {},
     "output_type": "display_data"
    },
    {
     "data": {
      "text/plain": [
       "0.0    53.9%\n",
       "1.0    46.1%\n",
       "Name: cancelou, dtype: object"
      ]
     },
     "metadata": {},
     "output_type": "display_data"
    }
   ],
   "source": [
    "# então descobrimos que contrato mensal é ruim, vamos tirar ele e continuar analisando\n",
    "tabela = tabela[tabela[\"duracao_contrato\"]!=\"Monthly\"]\n",
    "display(tabela)\n",
    "display(tabela[\"cancelou\"].value_counts())\n",
    "display(tabela[\"cancelou\"].value_counts(normalize=True).map(\"{:.1%}\".format))"
   ]
  },
  {
   "cell_type": "markdown",
   "id": "9464d1b4",
   "metadata": {},
   "source": [
    "Aqui já percebemos que houve uma melhora de 56,7 % dos clientes total que cancelaram para 46,1%"
   ]
  },
  {
   "cell_type": "markdown",
   "id": "e0e4d1a9",
   "metadata": {},
   "source": [
    "## Vamos ver como se comportam as assinaturas dos clientes"
   ]
  },
  {
   "cell_type": "code",
   "execution_count": 84,
   "id": "f81c4374",
   "metadata": {},
   "outputs": [
    {
     "data": {
      "text/plain": [
       "Standard    0.339648\n",
       "Premium     0.338138\n",
       "Basic       0.322215\n",
       "Name: assinatura, dtype: float64"
      ]
     },
     "metadata": {},
     "output_type": "display_data"
    },
    {
     "data": {
      "text/html": [
       "<div>\n",
       "<style scoped>\n",
       "    .dataframe tbody tr th:only-of-type {\n",
       "        vertical-align: middle;\n",
       "    }\n",
       "\n",
       "    .dataframe tbody tr th {\n",
       "        vertical-align: top;\n",
       "    }\n",
       "\n",
       "    .dataframe thead th {\n",
       "        text-align: right;\n",
       "    }\n",
       "</style>\n",
       "<table border=\"1\" class=\"dataframe\">\n",
       "  <thead>\n",
       "    <tr style=\"text-align: right;\">\n",
       "      <th></th>\n",
       "      <th>idade</th>\n",
       "      <th>tempo_como_cliente</th>\n",
       "      <th>frequencia_uso</th>\n",
       "      <th>ligacoes_callcenter</th>\n",
       "      <th>dias_atraso</th>\n",
       "      <th>total_gasto</th>\n",
       "      <th>meses_ultima_interacao</th>\n",
       "      <th>cancelou</th>\n",
       "    </tr>\n",
       "    <tr>\n",
       "      <th>assinatura</th>\n",
       "      <th></th>\n",
       "      <th></th>\n",
       "      <th></th>\n",
       "      <th></th>\n",
       "      <th></th>\n",
       "      <th></th>\n",
       "      <th></th>\n",
       "      <th></th>\n",
       "    </tr>\n",
       "  </thead>\n",
       "  <tbody>\n",
       "    <tr>\n",
       "      <th>Basic</th>\n",
       "      <td>38.904813</td>\n",
       "      <td>32.316031</td>\n",
       "      <td>15.876921</td>\n",
       "      <td>3.310021</td>\n",
       "      <td>12.507054</td>\n",
       "      <td>648.642614</td>\n",
       "      <td>14.240814</td>\n",
       "      <td>0.475188</td>\n",
       "    </tr>\n",
       "    <tr>\n",
       "      <th>Premium</th>\n",
       "      <td>38.817814</td>\n",
       "      <td>30.977869</td>\n",
       "      <td>15.889673</td>\n",
       "      <td>3.235886</td>\n",
       "      <td>12.433427</td>\n",
       "      <td>653.337633</td>\n",
       "      <td>14.231150</td>\n",
       "      <td>0.452338</td>\n",
       "    </tr>\n",
       "    <tr>\n",
       "      <th>Standard</th>\n",
       "      <td>38.790478</td>\n",
       "      <td>31.048621</td>\n",
       "      <td>15.883393</td>\n",
       "      <td>3.249275</td>\n",
       "      <td>12.450690</td>\n",
       "      <td>652.566793</td>\n",
       "      <td>14.234280</td>\n",
       "      <td>0.454714</td>\n",
       "    </tr>\n",
       "  </tbody>\n",
       "</table>\n",
       "</div>"
      ],
      "text/plain": [
       "                idade  tempo_como_cliente  frequencia_uso  \\\n",
       "assinatura                                                  \n",
       "Basic       38.904813           32.316031       15.876921   \n",
       "Premium     38.817814           30.977869       15.889673   \n",
       "Standard    38.790478           31.048621       15.883393   \n",
       "\n",
       "            ligacoes_callcenter  dias_atraso  total_gasto  \\\n",
       "assinatura                                                  \n",
       "Basic                  3.310021    12.507054   648.642614   \n",
       "Premium                3.235886    12.433427   653.337633   \n",
       "Standard               3.249275    12.450690   652.566793   \n",
       "\n",
       "            meses_ultima_interacao  cancelou  \n",
       "assinatura                                    \n",
       "Basic                    14.240814  0.475188  \n",
       "Premium                  14.231150  0.452338  \n",
       "Standard                 14.234280  0.454714  "
      ]
     },
     "metadata": {},
     "output_type": "display_data"
    }
   ],
   "source": [
    "# chegamos agora em menos da metade de pessoas cancelando, mas ainda temos muitas pessoas ai, vamos continuar analisando\n",
    "display(tabela[\"assinatura\"].value_counts(normalize=True))\n",
    "display(tabela.groupby(\"assinatura\").mean(numeric_only=True))\n",
    "# vemos que assinatura é quase 1/3, 1/3, 1/3\n",
    "# e que os cancelamentos são na média bem parecidos, então fica difícil tirar alguma conclusão da média, vamos precisar ir mais a fundo"
   ]
  },
  {
   "cell_type": "markdown",
   "id": "e49e6841",
   "metadata": {},
   "source": [
    "As assinaturas não impactam nos cancelamento, mas iremos analisar graficamente"
   ]
  },
  {
   "cell_type": "markdown",
   "id": "9b3e8122",
   "metadata": {},
   "source": [
    "## Vamos analisar se as idades inteferem nos cancelamentos"
   ]
  },
  {
   "cell_type": "code",
   "execution_count": 85,
   "id": "ac6e233e",
   "metadata": {},
   "outputs": [
    {
     "ename": "ValueError",
     "evalue": "\nImage export using the \"kaleido\" engine requires the kaleido package,\nwhich can be installed using pip:\n    $ pip install -U kaleido\n",
     "output_type": "error",
     "traceback": [
      "\u001b[1;31m---------------------------------------------------------------------------\u001b[0m",
      "\u001b[1;31mValueError\u001b[0m                                Traceback (most recent call last)",
      "Cell \u001b[1;32mIn[85], line 2\u001b[0m\n\u001b[0;32m      1\u001b[0m grafico \u001b[38;5;241m=\u001b[39m px\u001b[38;5;241m.\u001b[39mhistogram(tabela, x\u001b[38;5;241m=\u001b[39m\u001b[38;5;124m\"\u001b[39m\u001b[38;5;124midade\u001b[39m\u001b[38;5;124m\"\u001b[39m, color\u001b[38;5;241m=\u001b[39m\u001b[38;5;124m\"\u001b[39m\u001b[38;5;124mcancelou\u001b[39m\u001b[38;5;124m\"\u001b[39m)\n\u001b[1;32m----> 2\u001b[0m grafico\u001b[38;5;241m.\u001b[39mshow()\n",
      "File \u001b[1;32m~\\anaconda3\\Lib\\site-packages\\plotly\\basedatatypes.py:3398\u001b[0m, in \u001b[0;36mBaseFigure.show\u001b[1;34m(self, *args, **kwargs)\u001b[0m\n\u001b[0;32m   3365\u001b[0m \u001b[38;5;250m\u001b[39m\u001b[38;5;124;03m\"\"\"\u001b[39;00m\n\u001b[0;32m   3366\u001b[0m \u001b[38;5;124;03mShow a figure using either the default renderer(s) or the renderer(s)\u001b[39;00m\n\u001b[0;32m   3367\u001b[0m \u001b[38;5;124;03mspecified by the renderer argument\u001b[39;00m\n\u001b[1;32m   (...)\u001b[0m\n\u001b[0;32m   3394\u001b[0m \u001b[38;5;124;03mNone\u001b[39;00m\n\u001b[0;32m   3395\u001b[0m \u001b[38;5;124;03m\"\"\"\u001b[39;00m\n\u001b[0;32m   3396\u001b[0m \u001b[38;5;28;01mimport\u001b[39;00m \u001b[38;5;21;01mplotly\u001b[39;00m\u001b[38;5;21;01m.\u001b[39;00m\u001b[38;5;21;01mio\u001b[39;00m \u001b[38;5;28;01mas\u001b[39;00m \u001b[38;5;21;01mpio\u001b[39;00m\n\u001b[1;32m-> 3398\u001b[0m \u001b[38;5;28;01mreturn\u001b[39;00m pio\u001b[38;5;241m.\u001b[39mshow(\u001b[38;5;28mself\u001b[39m, \u001b[38;5;241m*\u001b[39margs, \u001b[38;5;241m*\u001b[39m\u001b[38;5;241m*\u001b[39mkwargs)\n",
      "File \u001b[1;32m~\\anaconda3\\Lib\\site-packages\\plotly\\io\\_renderers.py:388\u001b[0m, in \u001b[0;36mshow\u001b[1;34m(fig, renderer, validate, **kwargs)\u001b[0m\n\u001b[0;32m    385\u001b[0m fig_dict \u001b[38;5;241m=\u001b[39m validate_coerce_fig_to_dict(fig, validate)\n\u001b[0;32m    387\u001b[0m \u001b[38;5;66;03m# Mimetype renderers\u001b[39;00m\n\u001b[1;32m--> 388\u001b[0m bundle \u001b[38;5;241m=\u001b[39m renderers\u001b[38;5;241m.\u001b[39m_build_mime_bundle(fig_dict, renderers_string\u001b[38;5;241m=\u001b[39mrenderer, \u001b[38;5;241m*\u001b[39m\u001b[38;5;241m*\u001b[39mkwargs)\n\u001b[0;32m    389\u001b[0m \u001b[38;5;28;01mif\u001b[39;00m bundle:\n\u001b[0;32m    390\u001b[0m     \u001b[38;5;28;01mif\u001b[39;00m \u001b[38;5;129;01mnot\u001b[39;00m ipython_display:\n",
      "File \u001b[1;32m~\\anaconda3\\Lib\\site-packages\\plotly\\io\\_renderers.py:296\u001b[0m, in \u001b[0;36mRenderersConfig._build_mime_bundle\u001b[1;34m(self, fig_dict, renderers_string, **kwargs)\u001b[0m\n\u001b[0;32m    293\u001b[0m             \u001b[38;5;28;01mif\u001b[39;00m \u001b[38;5;28mhasattr\u001b[39m(renderer, k):\n\u001b[0;32m    294\u001b[0m                 \u001b[38;5;28msetattr\u001b[39m(renderer, k, v)\n\u001b[1;32m--> 296\u001b[0m         bundle\u001b[38;5;241m.\u001b[39mupdate(renderer\u001b[38;5;241m.\u001b[39mto_mimebundle(fig_dict))\n\u001b[0;32m    298\u001b[0m \u001b[38;5;28;01mreturn\u001b[39;00m bundle\n",
      "File \u001b[1;32m~\\anaconda3\\Lib\\site-packages\\plotly\\io\\_base_renderers.py:127\u001b[0m, in \u001b[0;36mImageRenderer.to_mimebundle\u001b[1;34m(self, fig_dict)\u001b[0m\n\u001b[0;32m    126\u001b[0m \u001b[38;5;28;01mdef\u001b[39;00m \u001b[38;5;21mto_mimebundle\u001b[39m(\u001b[38;5;28mself\u001b[39m, fig_dict):\n\u001b[1;32m--> 127\u001b[0m     image_bytes \u001b[38;5;241m=\u001b[39m to_image(\n\u001b[0;32m    128\u001b[0m         fig_dict,\n\u001b[0;32m    129\u001b[0m         \u001b[38;5;28mformat\u001b[39m\u001b[38;5;241m=\u001b[39m\u001b[38;5;28mself\u001b[39m\u001b[38;5;241m.\u001b[39mformat,\n\u001b[0;32m    130\u001b[0m         width\u001b[38;5;241m=\u001b[39m\u001b[38;5;28mself\u001b[39m\u001b[38;5;241m.\u001b[39mwidth,\n\u001b[0;32m    131\u001b[0m         height\u001b[38;5;241m=\u001b[39m\u001b[38;5;28mself\u001b[39m\u001b[38;5;241m.\u001b[39mheight,\n\u001b[0;32m    132\u001b[0m         scale\u001b[38;5;241m=\u001b[39m\u001b[38;5;28mself\u001b[39m\u001b[38;5;241m.\u001b[39mscale,\n\u001b[0;32m    133\u001b[0m         validate\u001b[38;5;241m=\u001b[39m\u001b[38;5;28;01mFalse\u001b[39;00m,\n\u001b[0;32m    134\u001b[0m         engine\u001b[38;5;241m=\u001b[39m\u001b[38;5;28mself\u001b[39m\u001b[38;5;241m.\u001b[39mengine,\n\u001b[0;32m    135\u001b[0m     )\n\u001b[0;32m    137\u001b[0m     \u001b[38;5;28;01mif\u001b[39;00m \u001b[38;5;28mself\u001b[39m\u001b[38;5;241m.\u001b[39mb64_encode:\n\u001b[0;32m    138\u001b[0m         image_str \u001b[38;5;241m=\u001b[39m base64\u001b[38;5;241m.\u001b[39mb64encode(image_bytes)\u001b[38;5;241m.\u001b[39mdecode(\u001b[38;5;124m\"\u001b[39m\u001b[38;5;124mutf8\u001b[39m\u001b[38;5;124m\"\u001b[39m)\n",
      "File \u001b[1;32m~\\anaconda3\\Lib\\site-packages\\plotly\\io\\_kaleido.py:133\u001b[0m, in \u001b[0;36mto_image\u001b[1;34m(fig, format, width, height, scale, validate, engine)\u001b[0m\n\u001b[0;32m    131\u001b[0m     \u001b[38;5;66;03m# Raise informative error message if Kaleido is not installed\u001b[39;00m\n\u001b[0;32m    132\u001b[0m     \u001b[38;5;28;01mif\u001b[39;00m scope \u001b[38;5;129;01mis\u001b[39;00m \u001b[38;5;28;01mNone\u001b[39;00m:\n\u001b[1;32m--> 133\u001b[0m         \u001b[38;5;28;01mraise\u001b[39;00m \u001b[38;5;167;01mValueError\u001b[39;00m(\n\u001b[0;32m    134\u001b[0m \u001b[38;5;250m            \u001b[39m\u001b[38;5;124;03m\"\"\"\u001b[39;00m\n\u001b[0;32m    135\u001b[0m \u001b[38;5;124;03mImage export using the \"kaleido\" engine requires the kaleido package,\u001b[39;00m\n\u001b[0;32m    136\u001b[0m \u001b[38;5;124;03mwhich can be installed using pip:\u001b[39;00m\n\u001b[0;32m    137\u001b[0m \u001b[38;5;124;03m    $ pip install -U kaleido\u001b[39;00m\n\u001b[0;32m    138\u001b[0m \u001b[38;5;124;03m\"\"\"\u001b[39;00m\n\u001b[0;32m    139\u001b[0m         )\n\u001b[0;32m    141\u001b[0m     \u001b[38;5;66;03m# Validate figure\u001b[39;00m\n\u001b[0;32m    142\u001b[0m     \u001b[38;5;66;03m# ---------------\u001b[39;00m\n\u001b[0;32m    143\u001b[0m     fig_dict \u001b[38;5;241m=\u001b[39m validate_coerce_fig_to_dict(fig, validate)\n",
      "\u001b[1;31mValueError\u001b[0m: \nImage export using the \"kaleido\" engine requires the kaleido package,\nwhich can be installed using pip:\n    $ pip install -U kaleido\n"
     ]
    }
   ],
   "source": [
    "    grafico = px.histogram(tabela, x=\"idade\", color=\"cancelou\")\n",
    "    grafico.show()\n"
   ]
  },
  {
   "cell_type": "markdown",
   "id": "4fd66bc6",
   "metadata": {},
   "source": [
    "Aqui verificamos que todos cliente acima de 50 anos cancelam o cartão,porém existe clientes que cancelam o cartaão comenos idade"
   ]
  },
  {
   "cell_type": "markdown",
   "id": "1f02a55f",
   "metadata": {},
   "source": [
    "## Aqui vamos verificar apenas os menores de 50 anos"
   ]
  },
  {
   "cell_type": "code",
   "execution_count": 86,
   "id": "69ed7d24",
   "metadata": {},
   "outputs": [
    {
     "data": {
      "text/html": [
       "<div>\n",
       "<style scoped>\n",
       "    .dataframe tbody tr th:only-of-type {\n",
       "        vertical-align: middle;\n",
       "    }\n",
       "\n",
       "    .dataframe tbody tr th {\n",
       "        vertical-align: top;\n",
       "    }\n",
       "\n",
       "    .dataframe thead th {\n",
       "        text-align: right;\n",
       "    }\n",
       "</style>\n",
       "<table border=\"1\" class=\"dataframe\">\n",
       "  <thead>\n",
       "    <tr style=\"text-align: right;\">\n",
       "      <th></th>\n",
       "      <th>idade</th>\n",
       "      <th>sexo</th>\n",
       "      <th>tempo_como_cliente</th>\n",
       "      <th>frequencia_uso</th>\n",
       "      <th>ligacoes_callcenter</th>\n",
       "      <th>dias_atraso</th>\n",
       "      <th>assinatura</th>\n",
       "      <th>duracao_contrato</th>\n",
       "      <th>total_gasto</th>\n",
       "      <th>meses_ultima_interacao</th>\n",
       "      <th>cancelou</th>\n",
       "    </tr>\n",
       "  </thead>\n",
       "  <tbody>\n",
       "    <tr>\n",
       "      <th>0</th>\n",
       "      <td>30.0</td>\n",
       "      <td>Female</td>\n",
       "      <td>39.0</td>\n",
       "      <td>14.0</td>\n",
       "      <td>5.0</td>\n",
       "      <td>18.0</td>\n",
       "      <td>Standard</td>\n",
       "      <td>Annual</td>\n",
       "      <td>932.00</td>\n",
       "      <td>17.0</td>\n",
       "      <td>1.0</td>\n",
       "    </tr>\n",
       "    <tr>\n",
       "      <th>8</th>\n",
       "      <td>39.0</td>\n",
       "      <td>Male</td>\n",
       "      <td>12.0</td>\n",
       "      <td>5.0</td>\n",
       "      <td>7.0</td>\n",
       "      <td>4.0</td>\n",
       "      <td>Standard</td>\n",
       "      <td>Quarterly</td>\n",
       "      <td>969.00</td>\n",
       "      <td>13.0</td>\n",
       "      <td>1.0</td>\n",
       "    </tr>\n",
       "    <tr>\n",
       "      <th>10</th>\n",
       "      <td>29.0</td>\n",
       "      <td>Male</td>\n",
       "      <td>18.0</td>\n",
       "      <td>9.0</td>\n",
       "      <td>0.0</td>\n",
       "      <td>30.0</td>\n",
       "      <td>Premium</td>\n",
       "      <td>Quarterly</td>\n",
       "      <td>930.00</td>\n",
       "      <td>18.0</td>\n",
       "      <td>1.0</td>\n",
       "    </tr>\n",
       "    <tr>\n",
       "      <th>12</th>\n",
       "      <td>22.0</td>\n",
       "      <td>Male</td>\n",
       "      <td>41.0</td>\n",
       "      <td>17.0</td>\n",
       "      <td>10.0</td>\n",
       "      <td>25.0</td>\n",
       "      <td>Basic</td>\n",
       "      <td>Quarterly</td>\n",
       "      <td>265.00</td>\n",
       "      <td>23.0</td>\n",
       "      <td>1.0</td>\n",
       "    </tr>\n",
       "    <tr>\n",
       "      <th>13</th>\n",
       "      <td>48.0</td>\n",
       "      <td>Female</td>\n",
       "      <td>35.0</td>\n",
       "      <td>25.0</td>\n",
       "      <td>1.0</td>\n",
       "      <td>13.0</td>\n",
       "      <td>Basic</td>\n",
       "      <td>Annual</td>\n",
       "      <td>518.00</td>\n",
       "      <td>17.0</td>\n",
       "      <td>1.0</td>\n",
       "    </tr>\n",
       "    <tr>\n",
       "      <th>...</th>\n",
       "      <td>...</td>\n",
       "      <td>...</td>\n",
       "      <td>...</td>\n",
       "      <td>...</td>\n",
       "      <td>...</td>\n",
       "      <td>...</td>\n",
       "      <td>...</td>\n",
       "      <td>...</td>\n",
       "      <td>...</td>\n",
       "      <td>...</td>\n",
       "      <td>...</td>\n",
       "    </tr>\n",
       "    <tr>\n",
       "      <th>881661</th>\n",
       "      <td>42.0</td>\n",
       "      <td>Male</td>\n",
       "      <td>54.0</td>\n",
       "      <td>15.0</td>\n",
       "      <td>1.0</td>\n",
       "      <td>3.0</td>\n",
       "      <td>Premium</td>\n",
       "      <td>Annual</td>\n",
       "      <td>716.38</td>\n",
       "      <td>8.0</td>\n",
       "      <td>0.0</td>\n",
       "    </tr>\n",
       "    <tr>\n",
       "      <th>881662</th>\n",
       "      <td>25.0</td>\n",
       "      <td>Female</td>\n",
       "      <td>8.0</td>\n",
       "      <td>13.0</td>\n",
       "      <td>1.0</td>\n",
       "      <td>20.0</td>\n",
       "      <td>Premium</td>\n",
       "      <td>Annual</td>\n",
       "      <td>745.38</td>\n",
       "      <td>2.0</td>\n",
       "      <td>0.0</td>\n",
       "    </tr>\n",
       "    <tr>\n",
       "      <th>881663</th>\n",
       "      <td>26.0</td>\n",
       "      <td>Male</td>\n",
       "      <td>35.0</td>\n",
       "      <td>27.0</td>\n",
       "      <td>1.0</td>\n",
       "      <td>5.0</td>\n",
       "      <td>Standard</td>\n",
       "      <td>Quarterly</td>\n",
       "      <td>977.31</td>\n",
       "      <td>9.0</td>\n",
       "      <td>0.0</td>\n",
       "    </tr>\n",
       "    <tr>\n",
       "      <th>881664</th>\n",
       "      <td>28.0</td>\n",
       "      <td>Male</td>\n",
       "      <td>55.0</td>\n",
       "      <td>14.0</td>\n",
       "      <td>2.0</td>\n",
       "      <td>0.0</td>\n",
       "      <td>Standard</td>\n",
       "      <td>Quarterly</td>\n",
       "      <td>602.55</td>\n",
       "      <td>2.0</td>\n",
       "      <td>0.0</td>\n",
       "    </tr>\n",
       "    <tr>\n",
       "      <th>881665</th>\n",
       "      <td>31.0</td>\n",
       "      <td>Male</td>\n",
       "      <td>48.0</td>\n",
       "      <td>20.0</td>\n",
       "      <td>1.0</td>\n",
       "      <td>14.0</td>\n",
       "      <td>Premium</td>\n",
       "      <td>Quarterly</td>\n",
       "      <td>567.77</td>\n",
       "      <td>21.0</td>\n",
       "      <td>0.0</td>\n",
       "    </tr>\n",
       "  </tbody>\n",
       "</table>\n",
       "<p>599156 rows × 11 columns</p>\n",
       "</div>"
      ],
      "text/plain": [
       "        idade    sexo  tempo_como_cliente  frequencia_uso  \\\n",
       "0        30.0  Female                39.0            14.0   \n",
       "8        39.0    Male                12.0             5.0   \n",
       "10       29.0    Male                18.0             9.0   \n",
       "12       22.0    Male                41.0            17.0   \n",
       "13       48.0  Female                35.0            25.0   \n",
       "...       ...     ...                 ...             ...   \n",
       "881661   42.0    Male                54.0            15.0   \n",
       "881662   25.0  Female                 8.0            13.0   \n",
       "881663   26.0    Male                35.0            27.0   \n",
       "881664   28.0    Male                55.0            14.0   \n",
       "881665   31.0    Male                48.0            20.0   \n",
       "\n",
       "        ligacoes_callcenter  dias_atraso assinatura duracao_contrato  \\\n",
       "0                       5.0         18.0   Standard           Annual   \n",
       "8                       7.0          4.0   Standard        Quarterly   \n",
       "10                      0.0         30.0    Premium        Quarterly   \n",
       "12                     10.0         25.0      Basic        Quarterly   \n",
       "13                      1.0         13.0      Basic           Annual   \n",
       "...                     ...          ...        ...              ...   \n",
       "881661                  1.0          3.0    Premium           Annual   \n",
       "881662                  1.0         20.0    Premium           Annual   \n",
       "881663                  1.0          5.0   Standard        Quarterly   \n",
       "881664                  2.0          0.0   Standard        Quarterly   \n",
       "881665                  1.0         14.0    Premium        Quarterly   \n",
       "\n",
       "        total_gasto  meses_ultima_interacao  cancelou  \n",
       "0            932.00                    17.0       1.0  \n",
       "8            969.00                    13.0       1.0  \n",
       "10           930.00                    18.0       1.0  \n",
       "12           265.00                    23.0       1.0  \n",
       "13           518.00                    17.0       1.0  \n",
       "...             ...                     ...       ...  \n",
       "881661       716.38                     8.0       0.0  \n",
       "881662       745.38                     2.0       0.0  \n",
       "881663       977.31                     9.0       0.0  \n",
       "881664       602.55                     2.0       0.0  \n",
       "881665       567.77                    21.0       0.0  \n",
       "\n",
       "[599156 rows x 11 columns]"
      ]
     },
     "execution_count": 86,
     "metadata": {},
     "output_type": "execute_result"
    }
   ],
   "source": [
    "menore_50=tabela[ tabela['idade']<=50 ]\n",
    "menore_50"
   ]
  },
  {
   "cell_type": "markdown",
   "id": "f7322cee",
   "metadata": {},
   "source": [
    "## Aqui são os menores de 50 anos agrupados por sexo"
   ]
  },
  {
   "cell_type": "code",
   "execution_count": 87,
   "id": "d5c014ef",
   "metadata": {},
   "outputs": [
    {
     "data": {
      "text/plain": [
       "sexo    cancelou\n",
       "Female  0.0         0.529033\n",
       "        1.0         0.470967\n",
       "Male    0.0         0.709230\n",
       "        1.0         0.290770\n",
       "Name: cancelou, dtype: float64"
      ]
     },
     "execution_count": 87,
     "metadata": {},
     "output_type": "execute_result"
    }
   ],
   "source": [
    "# Aqui são os menores de 50 anos agrupados por sexo\n",
    "menore_50.groupby(['sexo'])['cancelou'].value_counts(normalize=True)"
   ]
  },
  {
   "cell_type": "markdown",
   "id": "52769ab0",
   "metadata": {},
   "source": [
    "Dos menos de 50 anos,47% são do sexo feminino"
   ]
  },
  {
   "cell_type": "markdown",
   "id": "03157448",
   "metadata": {},
   "source": [
    "## Vamos observar somente os femininos menores de 50"
   ]
  },
  {
   "cell_type": "code",
   "execution_count": 88,
   "id": "f57f2053",
   "metadata": {},
   "outputs": [],
   "source": [
    "feminino= menore_50[menore_50['sexo']=='Female']"
   ]
  },
  {
   "cell_type": "code",
   "execution_count": 89,
   "id": "e91bc4a7",
   "metadata": {},
   "outputs": [
    {
     "ename": "ValueError",
     "evalue": "\nImage export using the \"kaleido\" engine requires the kaleido package,\nwhich can be installed using pip:\n    $ pip install -U kaleido\n",
     "output_type": "error",
     "traceback": [
      "\u001b[1;31m---------------------------------------------------------------------------\u001b[0m",
      "\u001b[1;31mValueError\u001b[0m                                Traceback (most recent call last)",
      "Cell \u001b[1;32mIn[89], line 3\u001b[0m\n\u001b[0;32m      1\u001b[0m \u001b[38;5;28;01mfor\u001b[39;00m coluna \u001b[38;5;129;01min\u001b[39;00m tabela\u001b[38;5;241m.\u001b[39mcolumns:\n\u001b[0;32m      2\u001b[0m     grafico \u001b[38;5;241m=\u001b[39m px\u001b[38;5;241m.\u001b[39mhistogram(feminino, x\u001b[38;5;241m=\u001b[39mcoluna, color\u001b[38;5;241m=\u001b[39m\u001b[38;5;124m\"\u001b[39m\u001b[38;5;124mcancelou\u001b[39m\u001b[38;5;124m\"\u001b[39m)\n\u001b[1;32m----> 3\u001b[0m     grafico\u001b[38;5;241m.\u001b[39mshow()\n",
      "File \u001b[1;32m~\\anaconda3\\Lib\\site-packages\\plotly\\basedatatypes.py:3398\u001b[0m, in \u001b[0;36mBaseFigure.show\u001b[1;34m(self, *args, **kwargs)\u001b[0m\n\u001b[0;32m   3365\u001b[0m \u001b[38;5;250m\u001b[39m\u001b[38;5;124;03m\"\"\"\u001b[39;00m\n\u001b[0;32m   3366\u001b[0m \u001b[38;5;124;03mShow a figure using either the default renderer(s) or the renderer(s)\u001b[39;00m\n\u001b[0;32m   3367\u001b[0m \u001b[38;5;124;03mspecified by the renderer argument\u001b[39;00m\n\u001b[1;32m   (...)\u001b[0m\n\u001b[0;32m   3394\u001b[0m \u001b[38;5;124;03mNone\u001b[39;00m\n\u001b[0;32m   3395\u001b[0m \u001b[38;5;124;03m\"\"\"\u001b[39;00m\n\u001b[0;32m   3396\u001b[0m \u001b[38;5;28;01mimport\u001b[39;00m \u001b[38;5;21;01mplotly\u001b[39;00m\u001b[38;5;21;01m.\u001b[39;00m\u001b[38;5;21;01mio\u001b[39;00m \u001b[38;5;28;01mas\u001b[39;00m \u001b[38;5;21;01mpio\u001b[39;00m\n\u001b[1;32m-> 3398\u001b[0m \u001b[38;5;28;01mreturn\u001b[39;00m pio\u001b[38;5;241m.\u001b[39mshow(\u001b[38;5;28mself\u001b[39m, \u001b[38;5;241m*\u001b[39margs, \u001b[38;5;241m*\u001b[39m\u001b[38;5;241m*\u001b[39mkwargs)\n",
      "File \u001b[1;32m~\\anaconda3\\Lib\\site-packages\\plotly\\io\\_renderers.py:388\u001b[0m, in \u001b[0;36mshow\u001b[1;34m(fig, renderer, validate, **kwargs)\u001b[0m\n\u001b[0;32m    385\u001b[0m fig_dict \u001b[38;5;241m=\u001b[39m validate_coerce_fig_to_dict(fig, validate)\n\u001b[0;32m    387\u001b[0m \u001b[38;5;66;03m# Mimetype renderers\u001b[39;00m\n\u001b[1;32m--> 388\u001b[0m bundle \u001b[38;5;241m=\u001b[39m renderers\u001b[38;5;241m.\u001b[39m_build_mime_bundle(fig_dict, renderers_string\u001b[38;5;241m=\u001b[39mrenderer, \u001b[38;5;241m*\u001b[39m\u001b[38;5;241m*\u001b[39mkwargs)\n\u001b[0;32m    389\u001b[0m \u001b[38;5;28;01mif\u001b[39;00m bundle:\n\u001b[0;32m    390\u001b[0m     \u001b[38;5;28;01mif\u001b[39;00m \u001b[38;5;129;01mnot\u001b[39;00m ipython_display:\n",
      "File \u001b[1;32m~\\anaconda3\\Lib\\site-packages\\plotly\\io\\_renderers.py:296\u001b[0m, in \u001b[0;36mRenderersConfig._build_mime_bundle\u001b[1;34m(self, fig_dict, renderers_string, **kwargs)\u001b[0m\n\u001b[0;32m    293\u001b[0m             \u001b[38;5;28;01mif\u001b[39;00m \u001b[38;5;28mhasattr\u001b[39m(renderer, k):\n\u001b[0;32m    294\u001b[0m                 \u001b[38;5;28msetattr\u001b[39m(renderer, k, v)\n\u001b[1;32m--> 296\u001b[0m         bundle\u001b[38;5;241m.\u001b[39mupdate(renderer\u001b[38;5;241m.\u001b[39mto_mimebundle(fig_dict))\n\u001b[0;32m    298\u001b[0m \u001b[38;5;28;01mreturn\u001b[39;00m bundle\n",
      "File \u001b[1;32m~\\anaconda3\\Lib\\site-packages\\plotly\\io\\_base_renderers.py:127\u001b[0m, in \u001b[0;36mImageRenderer.to_mimebundle\u001b[1;34m(self, fig_dict)\u001b[0m\n\u001b[0;32m    126\u001b[0m \u001b[38;5;28;01mdef\u001b[39;00m \u001b[38;5;21mto_mimebundle\u001b[39m(\u001b[38;5;28mself\u001b[39m, fig_dict):\n\u001b[1;32m--> 127\u001b[0m     image_bytes \u001b[38;5;241m=\u001b[39m to_image(\n\u001b[0;32m    128\u001b[0m         fig_dict,\n\u001b[0;32m    129\u001b[0m         \u001b[38;5;28mformat\u001b[39m\u001b[38;5;241m=\u001b[39m\u001b[38;5;28mself\u001b[39m\u001b[38;5;241m.\u001b[39mformat,\n\u001b[0;32m    130\u001b[0m         width\u001b[38;5;241m=\u001b[39m\u001b[38;5;28mself\u001b[39m\u001b[38;5;241m.\u001b[39mwidth,\n\u001b[0;32m    131\u001b[0m         height\u001b[38;5;241m=\u001b[39m\u001b[38;5;28mself\u001b[39m\u001b[38;5;241m.\u001b[39mheight,\n\u001b[0;32m    132\u001b[0m         scale\u001b[38;5;241m=\u001b[39m\u001b[38;5;28mself\u001b[39m\u001b[38;5;241m.\u001b[39mscale,\n\u001b[0;32m    133\u001b[0m         validate\u001b[38;5;241m=\u001b[39m\u001b[38;5;28;01mFalse\u001b[39;00m,\n\u001b[0;32m    134\u001b[0m         engine\u001b[38;5;241m=\u001b[39m\u001b[38;5;28mself\u001b[39m\u001b[38;5;241m.\u001b[39mengine,\n\u001b[0;32m    135\u001b[0m     )\n\u001b[0;32m    137\u001b[0m     \u001b[38;5;28;01mif\u001b[39;00m \u001b[38;5;28mself\u001b[39m\u001b[38;5;241m.\u001b[39mb64_encode:\n\u001b[0;32m    138\u001b[0m         image_str \u001b[38;5;241m=\u001b[39m base64\u001b[38;5;241m.\u001b[39mb64encode(image_bytes)\u001b[38;5;241m.\u001b[39mdecode(\u001b[38;5;124m\"\u001b[39m\u001b[38;5;124mutf8\u001b[39m\u001b[38;5;124m\"\u001b[39m)\n",
      "File \u001b[1;32m~\\anaconda3\\Lib\\site-packages\\plotly\\io\\_kaleido.py:133\u001b[0m, in \u001b[0;36mto_image\u001b[1;34m(fig, format, width, height, scale, validate, engine)\u001b[0m\n\u001b[0;32m    131\u001b[0m     \u001b[38;5;66;03m# Raise informative error message if Kaleido is not installed\u001b[39;00m\n\u001b[0;32m    132\u001b[0m     \u001b[38;5;28;01mif\u001b[39;00m scope \u001b[38;5;129;01mis\u001b[39;00m \u001b[38;5;28;01mNone\u001b[39;00m:\n\u001b[1;32m--> 133\u001b[0m         \u001b[38;5;28;01mraise\u001b[39;00m \u001b[38;5;167;01mValueError\u001b[39;00m(\n\u001b[0;32m    134\u001b[0m \u001b[38;5;250m            \u001b[39m\u001b[38;5;124;03m\"\"\"\u001b[39;00m\n\u001b[0;32m    135\u001b[0m \u001b[38;5;124;03mImage export using the \"kaleido\" engine requires the kaleido package,\u001b[39;00m\n\u001b[0;32m    136\u001b[0m \u001b[38;5;124;03mwhich can be installed using pip:\u001b[39;00m\n\u001b[0;32m    137\u001b[0m \u001b[38;5;124;03m    $ pip install -U kaleido\u001b[39;00m\n\u001b[0;32m    138\u001b[0m \u001b[38;5;124;03m\"\"\"\u001b[39;00m\n\u001b[0;32m    139\u001b[0m         )\n\u001b[0;32m    141\u001b[0m     \u001b[38;5;66;03m# Validate figure\u001b[39;00m\n\u001b[0;32m    142\u001b[0m     \u001b[38;5;66;03m# ---------------\u001b[39;00m\n\u001b[0;32m    143\u001b[0m     fig_dict \u001b[38;5;241m=\u001b[39m validate_coerce_fig_to_dict(fig, validate)\n",
      "\u001b[1;31mValueError\u001b[0m: \nImage export using the \"kaleido\" engine requires the kaleido package,\nwhich can be installed using pip:\n    $ pip install -U kaleido\n"
     ]
    }
   ],
   "source": [
    "    for coluna in tabela.columns:\n",
    "        grafico = px.histogram(feminino, x=coluna, color=\"cancelou\")\n",
    "        grafico.show()"
   ]
  },
  {
   "cell_type": "markdown",
   "id": "28fde036",
   "metadata": {},
   "source": [
    "- Do femininos menos de 50 anos fez mais de 5 ligações \n",
    "- Têm mais de 20 dias de atraso \n",
    "- gasta menos de 500 reais \n",
    "- Tem acima de 15 meses de interação"
   ]
  },
  {
   "cell_type": "markdown",
   "id": "3a138b44",
   "metadata": {},
   "source": [
    "## Vamos observar a base inteira para validar as hipóteses"
   ]
  },
  {
   "cell_type": "code",
   "execution_count": null,
   "id": "541acfce",
   "metadata": {},
   "outputs": [],
   "source": []
  },
  {
   "cell_type": "code",
   "execution_count": 90,
   "id": "76745391",
   "metadata": {},
   "outputs": [
    {
     "ename": "ValueError",
     "evalue": "\nImage export using the \"kaleido\" engine requires the kaleido package,\nwhich can be installed using pip:\n    $ pip install -U kaleido\n",
     "output_type": "error",
     "traceback": [
      "\u001b[1;31m---------------------------------------------------------------------------\u001b[0m",
      "\u001b[1;31mValueError\u001b[0m                                Traceback (most recent call last)",
      "Cell \u001b[1;32mIn[90], line 3\u001b[0m\n\u001b[0;32m      1\u001b[0m \u001b[38;5;28;01mfor\u001b[39;00m coluna \u001b[38;5;129;01min\u001b[39;00m tabela\u001b[38;5;241m.\u001b[39mcolumns:\n\u001b[0;32m      2\u001b[0m         grafico \u001b[38;5;241m=\u001b[39m px\u001b[38;5;241m.\u001b[39mhistogram(tabela, x\u001b[38;5;241m=\u001b[39mcoluna, color\u001b[38;5;241m=\u001b[39m\u001b[38;5;124m\"\u001b[39m\u001b[38;5;124mcancelou\u001b[39m\u001b[38;5;124m\"\u001b[39m)\n\u001b[1;32m----> 3\u001b[0m         grafico\u001b[38;5;241m.\u001b[39mshow()\n",
      "File \u001b[1;32m~\\anaconda3\\Lib\\site-packages\\plotly\\basedatatypes.py:3398\u001b[0m, in \u001b[0;36mBaseFigure.show\u001b[1;34m(self, *args, **kwargs)\u001b[0m\n\u001b[0;32m   3365\u001b[0m \u001b[38;5;250m\u001b[39m\u001b[38;5;124;03m\"\"\"\u001b[39;00m\n\u001b[0;32m   3366\u001b[0m \u001b[38;5;124;03mShow a figure using either the default renderer(s) or the renderer(s)\u001b[39;00m\n\u001b[0;32m   3367\u001b[0m \u001b[38;5;124;03mspecified by the renderer argument\u001b[39;00m\n\u001b[1;32m   (...)\u001b[0m\n\u001b[0;32m   3394\u001b[0m \u001b[38;5;124;03mNone\u001b[39;00m\n\u001b[0;32m   3395\u001b[0m \u001b[38;5;124;03m\"\"\"\u001b[39;00m\n\u001b[0;32m   3396\u001b[0m \u001b[38;5;28;01mimport\u001b[39;00m \u001b[38;5;21;01mplotly\u001b[39;00m\u001b[38;5;21;01m.\u001b[39;00m\u001b[38;5;21;01mio\u001b[39;00m \u001b[38;5;28;01mas\u001b[39;00m \u001b[38;5;21;01mpio\u001b[39;00m\n\u001b[1;32m-> 3398\u001b[0m \u001b[38;5;28;01mreturn\u001b[39;00m pio\u001b[38;5;241m.\u001b[39mshow(\u001b[38;5;28mself\u001b[39m, \u001b[38;5;241m*\u001b[39margs, \u001b[38;5;241m*\u001b[39m\u001b[38;5;241m*\u001b[39mkwargs)\n",
      "File \u001b[1;32m~\\anaconda3\\Lib\\site-packages\\plotly\\io\\_renderers.py:388\u001b[0m, in \u001b[0;36mshow\u001b[1;34m(fig, renderer, validate, **kwargs)\u001b[0m\n\u001b[0;32m    385\u001b[0m fig_dict \u001b[38;5;241m=\u001b[39m validate_coerce_fig_to_dict(fig, validate)\n\u001b[0;32m    387\u001b[0m \u001b[38;5;66;03m# Mimetype renderers\u001b[39;00m\n\u001b[1;32m--> 388\u001b[0m bundle \u001b[38;5;241m=\u001b[39m renderers\u001b[38;5;241m.\u001b[39m_build_mime_bundle(fig_dict, renderers_string\u001b[38;5;241m=\u001b[39mrenderer, \u001b[38;5;241m*\u001b[39m\u001b[38;5;241m*\u001b[39mkwargs)\n\u001b[0;32m    389\u001b[0m \u001b[38;5;28;01mif\u001b[39;00m bundle:\n\u001b[0;32m    390\u001b[0m     \u001b[38;5;28;01mif\u001b[39;00m \u001b[38;5;129;01mnot\u001b[39;00m ipython_display:\n",
      "File \u001b[1;32m~\\anaconda3\\Lib\\site-packages\\plotly\\io\\_renderers.py:296\u001b[0m, in \u001b[0;36mRenderersConfig._build_mime_bundle\u001b[1;34m(self, fig_dict, renderers_string, **kwargs)\u001b[0m\n\u001b[0;32m    293\u001b[0m             \u001b[38;5;28;01mif\u001b[39;00m \u001b[38;5;28mhasattr\u001b[39m(renderer, k):\n\u001b[0;32m    294\u001b[0m                 \u001b[38;5;28msetattr\u001b[39m(renderer, k, v)\n\u001b[1;32m--> 296\u001b[0m         bundle\u001b[38;5;241m.\u001b[39mupdate(renderer\u001b[38;5;241m.\u001b[39mto_mimebundle(fig_dict))\n\u001b[0;32m    298\u001b[0m \u001b[38;5;28;01mreturn\u001b[39;00m bundle\n",
      "File \u001b[1;32m~\\anaconda3\\Lib\\site-packages\\plotly\\io\\_base_renderers.py:127\u001b[0m, in \u001b[0;36mImageRenderer.to_mimebundle\u001b[1;34m(self, fig_dict)\u001b[0m\n\u001b[0;32m    126\u001b[0m \u001b[38;5;28;01mdef\u001b[39;00m \u001b[38;5;21mto_mimebundle\u001b[39m(\u001b[38;5;28mself\u001b[39m, fig_dict):\n\u001b[1;32m--> 127\u001b[0m     image_bytes \u001b[38;5;241m=\u001b[39m to_image(\n\u001b[0;32m    128\u001b[0m         fig_dict,\n\u001b[0;32m    129\u001b[0m         \u001b[38;5;28mformat\u001b[39m\u001b[38;5;241m=\u001b[39m\u001b[38;5;28mself\u001b[39m\u001b[38;5;241m.\u001b[39mformat,\n\u001b[0;32m    130\u001b[0m         width\u001b[38;5;241m=\u001b[39m\u001b[38;5;28mself\u001b[39m\u001b[38;5;241m.\u001b[39mwidth,\n\u001b[0;32m    131\u001b[0m         height\u001b[38;5;241m=\u001b[39m\u001b[38;5;28mself\u001b[39m\u001b[38;5;241m.\u001b[39mheight,\n\u001b[0;32m    132\u001b[0m         scale\u001b[38;5;241m=\u001b[39m\u001b[38;5;28mself\u001b[39m\u001b[38;5;241m.\u001b[39mscale,\n\u001b[0;32m    133\u001b[0m         validate\u001b[38;5;241m=\u001b[39m\u001b[38;5;28;01mFalse\u001b[39;00m,\n\u001b[0;32m    134\u001b[0m         engine\u001b[38;5;241m=\u001b[39m\u001b[38;5;28mself\u001b[39m\u001b[38;5;241m.\u001b[39mengine,\n\u001b[0;32m    135\u001b[0m     )\n\u001b[0;32m    137\u001b[0m     \u001b[38;5;28;01mif\u001b[39;00m \u001b[38;5;28mself\u001b[39m\u001b[38;5;241m.\u001b[39mb64_encode:\n\u001b[0;32m    138\u001b[0m         image_str \u001b[38;5;241m=\u001b[39m base64\u001b[38;5;241m.\u001b[39mb64encode(image_bytes)\u001b[38;5;241m.\u001b[39mdecode(\u001b[38;5;124m\"\u001b[39m\u001b[38;5;124mutf8\u001b[39m\u001b[38;5;124m\"\u001b[39m)\n",
      "File \u001b[1;32m~\\anaconda3\\Lib\\site-packages\\plotly\\io\\_kaleido.py:133\u001b[0m, in \u001b[0;36mto_image\u001b[1;34m(fig, format, width, height, scale, validate, engine)\u001b[0m\n\u001b[0;32m    131\u001b[0m     \u001b[38;5;66;03m# Raise informative error message if Kaleido is not installed\u001b[39;00m\n\u001b[0;32m    132\u001b[0m     \u001b[38;5;28;01mif\u001b[39;00m scope \u001b[38;5;129;01mis\u001b[39;00m \u001b[38;5;28;01mNone\u001b[39;00m:\n\u001b[1;32m--> 133\u001b[0m         \u001b[38;5;28;01mraise\u001b[39;00m \u001b[38;5;167;01mValueError\u001b[39;00m(\n\u001b[0;32m    134\u001b[0m \u001b[38;5;250m            \u001b[39m\u001b[38;5;124;03m\"\"\"\u001b[39;00m\n\u001b[0;32m    135\u001b[0m \u001b[38;5;124;03mImage export using the \"kaleido\" engine requires the kaleido package,\u001b[39;00m\n\u001b[0;32m    136\u001b[0m \u001b[38;5;124;03mwhich can be installed using pip:\u001b[39;00m\n\u001b[0;32m    137\u001b[0m \u001b[38;5;124;03m    $ pip install -U kaleido\u001b[39;00m\n\u001b[0;32m    138\u001b[0m \u001b[38;5;124;03m\"\"\"\u001b[39;00m\n\u001b[0;32m    139\u001b[0m         )\n\u001b[0;32m    141\u001b[0m     \u001b[38;5;66;03m# Validate figure\u001b[39;00m\n\u001b[0;32m    142\u001b[0m     \u001b[38;5;66;03m# ---------------\u001b[39;00m\n\u001b[0;32m    143\u001b[0m     fig_dict \u001b[38;5;241m=\u001b[39m validate_coerce_fig_to_dict(fig, validate)\n",
      "\u001b[1;31mValueError\u001b[0m: \nImage export using the \"kaleido\" engine requires the kaleido package,\nwhich can be installed using pip:\n    $ pip install -U kaleido\n"
     ]
    }
   ],
   "source": [
    "    for coluna in tabela.columns:\n",
    "            grafico = px.histogram(tabela, x=coluna, color=\"cancelou\")\n",
    "            grafico.show()"
   ]
  },
  {
   "cell_type": "markdown",
   "id": "ef435674",
   "metadata": {},
   "source": [
    "# PRINCIPAIS RESULTADOS"
   ]
  },
  {
   "cell_type": "markdown",
   "id": "ba829100",
   "metadata": {},
   "source": [
    "- Todos acima de 50 anos cancelaram o cartão\n",
    "- Olhando a base toda o sexo não interfere nos cancelamentos, mas ao olhar os menos de 50 anos, a maioria dos cancelamentos são do sexo feminino\n",
    "- Acima de 5 ligação os clientes cancelam o cartão\n",
    "- Clientes com gasto abaixo de 500 reais todos cancelaram o cartão, mas existem  cancelamentos acima desse valor\n",
    "- Os meses de interação fez diferença ao publico feminino com idade menores de 50 anos que cancelaram o cartão"
   ]
  },
  {
   "cell_type": "markdown",
   "id": "d51b03b0",
   "metadata": {},
   "source": [
    "# SUGESTÕES DE ACÕES CORRETIVAS"
   ]
  },
  {
   "cell_type": "markdown",
   "id": "00a95d2b",
   "metadata": {},
   "source": [
    "- Definir estratégias de marketing segmentados para público acima de 50 anos e abaixo de 50 anos priorizando públicos femininos mais jovens\n",
    "- Melhorar o call center, pois ele é um fator de diferencial para os clientes\n",
    "- Definir estratégia de fidelização de clientes com base nos gasto do cartão de créditos\n",
    "- Criar estratégias com base nas interações do cliente com menos de 50 anos."
   ]
  },
  {
   "cell_type": "code",
   "execution_count": null,
   "id": "713f63e5",
   "metadata": {},
   "outputs": [],
   "source": []
  }
 ],
 "metadata": {
  "kernelspec": {
   "display_name": "Python 3 (ipykernel)",
   "language": "python",
   "name": "python3"
  },
  "language_info": {
   "codemirror_mode": {
    "name": "ipython",
    "version": 3
   },
   "file_extension": ".py",
   "mimetype": "text/x-python",
   "name": "python",
   "nbconvert_exporter": "python",
   "pygments_lexer": "ipython3",
   "version": "3.11.4"
  }
 },
 "nbformat": 4,
 "nbformat_minor": 5
}
